{
 "cells": [
  {
   "cell_type": "code",
   "execution_count": 1,
   "metadata": {},
   "outputs": [],
   "source": [
    "import csv\n",
    "import statistics\n",
    "import numpy"
   ]
  },
  {
   "cell_type": "code",
   "execution_count": 2,
   "metadata": {},
   "outputs": [
    {
     "name": "stdout",
     "output_type": "stream",
     "text": [
      "Mean is : 542.6734693877551\n",
      "Standard deviation is : 536.6744685696292\n",
      "Median is : 396.0\n"
     ]
    }
   ],
   "source": [
    "stat = []\n",
    "with open('HW4-friend-count.csv', 'r') as csv_file:\n",
    "    csv_reader = csv.reader(csv_file)\n",
    "    \n",
    "    next(csv_reader)\n",
    "    \n",
    "    for line in csv_reader:\n",
    "        stat.append(int(line[1]))\n",
    "        \n",
    "mean_val = statistics.mean(stat)\n",
    "print(\"Mean is :\", mean_val)\n",
    "\n",
    "\n",
    "std = numpy.std(stat)\n",
    "print(\"Standard deviation is :\", std)\n",
    "\n",
    "median_val = statistics.median(stat)\n",
    "print(\"Median is :\", median_val)"
   ]
  },
  {
   "cell_type": "code",
   "execution_count": null,
   "metadata": {},
   "outputs": [],
   "source": []
  }
 ],
 "metadata": {
  "kernelspec": {
   "display_name": "Python 3",
   "language": "python",
   "name": "python3"
  },
  "language_info": {
   "codemirror_mode": {
    "name": "ipython",
    "version": 3
   },
   "file_extension": ".py",
   "mimetype": "text/x-python",
   "name": "python",
   "nbconvert_exporter": "python",
   "pygments_lexer": "ipython3",
   "version": "3.8.5"
  }
 },
 "nbformat": 4,
 "nbformat_minor": 4
}

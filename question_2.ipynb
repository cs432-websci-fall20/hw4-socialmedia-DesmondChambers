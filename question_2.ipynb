{
 "cells": [
  {
   "cell_type": "code",
   "execution_count": 1,
   "metadata": {},
   "outputs": [],
   "source": [
    "import tweepy\n",
    "import webbrowser\n",
    "import time\n",
    "import re\n",
    "import requests\n",
    "import statistics\n",
    "import numpy\n",
    "import pandas as pd\n",
    "from matplotlib import pyplot as plt "
   ]
  },
  {
   "cell_type": "code",
   "execution_count": 2,
   "metadata": {},
   "outputs": [],
   "source": [
    "consumer_key = \"7ZOCRSoDj7s98J1rIoKNEfaC8\"\n",
    "consumer_secret_key = \"VpuPG2kLwF9b63ryupu3lLrcS01Wi3IDfsZLX7xNdv0HVwLvzC\""
   ]
  },
  {
   "cell_type": "code",
   "execution_count": 3,
   "metadata": {},
   "outputs": [],
   "source": [
    "callback_uri ='oob'"
   ]
  },
  {
   "cell_type": "code",
   "execution_count": 4,
   "metadata": {},
   "outputs": [
    {
     "name": "stdout",
     "output_type": "stream",
     "text": [
      "https://api.twitter.com/oauth/authorize?oauth_token=AIyd5AAAAAABIcLIAAABdV5K1IU\n"
     ]
    }
   ],
   "source": [
    "auth = tweepy.OAuthHandler(consumer_key, consumer_secret_key, callback_uri)\n",
    "redirect_url = auth.get_authorization_url()\n",
    "print (redirect_url)"
   ]
  },
  {
   "cell_type": "code",
   "execution_count": 5,
   "metadata": {},
   "outputs": [
    {
     "data": {
      "text/plain": [
       "True"
      ]
     },
     "execution_count": 5,
     "metadata": {},
     "output_type": "execute_result"
    }
   ],
   "source": [
    "webbrowser.open(redirect_url)"
   ]
  },
  {
   "cell_type": "code",
   "execution_count": 6,
   "metadata": {},
   "outputs": [
    {
     "name": "stdout",
     "output_type": "stream",
     "text": [
      "whats is the pin? 2021247\n"
     ]
    }
   ],
   "source": [
    "user_pin_input = input(\"whats is the pin? \")"
   ]
  },
  {
   "cell_type": "code",
   "execution_count": 7,
   "metadata": {},
   "outputs": [
    {
     "data": {
      "text/plain": [
       "'2021247'"
      ]
     },
     "execution_count": 7,
     "metadata": {},
     "output_type": "execute_result"
    }
   ],
   "source": [
    "user_pin_input"
   ]
  },
  {
   "cell_type": "code",
   "execution_count": 8,
   "metadata": {},
   "outputs": [
    {
     "data": {
      "text/plain": [
       "('1314029060654329856-jTbNEMnsdTbRhOAb4hAMvAFC0mT9HT',\n",
       " 'ZbZP2fLWCOLU9YrEPZNk9zEJESAyMmJig7AJhmEvVSW3P')"
      ]
     },
     "execution_count": 8,
     "metadata": {},
     "output_type": "execute_result"
    }
   ],
   "source": [
    "auth.get_access_token(user_pin_input)"
   ]
  },
  {
   "cell_type": "code",
   "execution_count": 9,
   "metadata": {},
   "outputs": [],
   "source": [
    "api = tweepy.API(auth, wait_on_rate_limit=True)"
   ]
  },
  {
   "cell_type": "code",
   "execution_count": 10,
   "metadata": {},
   "outputs": [],
   "source": [
    "me = api.me()"
   ]
  },
  {
   "cell_type": "code",
   "execution_count": 11,
   "metadata": {},
   "outputs": [
    {
     "name": "stdout",
     "output_type": "stream",
     "text": [
      "DESMONDCHAMBE13\n"
     ]
    }
   ],
   "source": [
    "print(me.screen_name)"
   ]
  },
  {
   "cell_type": "code",
   "execution_count": 12,
   "metadata": {},
   "outputs": [
    {
     "name": "stdout",
     "output_type": "stream",
     "text": [
      "432 260\n"
     ]
    }
   ],
   "source": [
    "other_user = api.get_user(\"weiglemc\")\n",
    "print(other_user.followers_count, other_user.friends_count)"
   ]
  },
  {
   "cell_type": "code",
   "execution_count": 13,
   "metadata": {},
   "outputs": [],
   "source": [
    "other_user = \"weiglemc\"\n",
    "other_user_friends_list = []\n",
    "friend_screen_name = []\n",
    "friend_followers = []\n",
    "for i, _id in enumerate(tweepy.Cursor(api.friends_ids, screen_name=other_user).items(100)):\n",
    "    other_user_friends_list.append(_id)\n",
    "\n",
    "for item in other_user_friends_list:\n",
    "    friend_screen_name.append(api.get_user(item).screen_name)\n",
    "\n",
    "for item in friend_screen_name:\n",
    "    other_user_friends = api.get_user(item)\n",
    "    friend_followers.append(other_user_friends.followers_count)\n",
    "    \n",
    "df = pd.DataFrame(list(zip(friend_screen_name, friend_followers)), \n",
    "               columns =['user', 'FRIENDCOUNT']) "
   ]
  },
  {
   "cell_type": "code",
   "execution_count": 14,
   "metadata": {},
   "outputs": [
    {
     "name": "stdout",
     "output_type": "stream",
     "text": [
      "Mean is : 776515\n",
      "Standard deviation is : 3330909.9241873263\n",
      "Median is : 1330.0\n"
     ]
    }
   ],
   "source": [
    "mean_val = statistics.mean(friend_followers)\n",
    "print(\"Mean is :\", mean_val)\n",
    "\n",
    "\n",
    "std = numpy.std(friend_followers)\n",
    "print(\"Standard deviation is :\", std)\n",
    "\n",
    "median_val = statistics.median(friend_followers)\n",
    "print(\"Median is :\", median_val)"
   ]
  },
  {
   "cell_type": "code",
   "execution_count": 21,
   "metadata": {},
   "outputs": [],
   "source": [
    "for i, row in df.iterrows():\n",
    "    df.at[i,'user'] = 'f' + str(i)"
   ]
  },
  {
   "cell_type": "code",
   "execution_count": 22,
   "metadata": {},
   "outputs": [],
   "source": [
    "df = df.sort_values(\"FRIENDCOUNT\")\n",
    "other_user = api.get_user(\"weiglemc\")\n",
    "new_info = {\"user\":'u', \"FRIENDCOUNT\":other_user.followers_count}\n",
    "df = df.append(new_info, ignore_index=True)"
   ]
  },
  {
   "cell_type": "code",
   "execution_count": 26,
   "metadata": {},
   "outputs": [
    {
     "data": {
      "text/plain": [
       "<function matplotlib.pyplot.show(close=None, block=None)>"
      ]
     },
     "execution_count": 26,
     "metadata": {},
     "output_type": "execute_result"
    },
    {
     "data": {
      "image/png": "[encoded data removed]",
      "text/plain": [
       "<Figure size 432x288 with 1 Axes>"
      ]
     },
     "metadata": {
      "needs_background": "light"
     },
     "output_type": "display_data"
    }
   ],
   "source": [
    "plt.scatter(df[\"user\"], df[\"FRIENDCOUNT\"])\n",
    "plt.title(\"Question #2\")\n",
    "plt.xlabel(\"Users\")\n",
    "plt.ylabel(\"Followers\")\n",
    "plt.savefig('question2graph.png')\n",
    "plt.show"
   ]
  },
  {
   "cell_type": "code",
   "execution_count": null,
   "metadata": {},
   "outputs": [],
   "source": []
  }
 ],
 "metadata": {
  "kernelspec": {
   "display_name": "Python 3",
   "language": "python",
   "name": "python3"
  },
  "language_info": {
   "codemirror_mode": {
    "name": "ipython",
    "version": 3
   },
   "file_extension": ".py",
   "mimetype": "text/x-python",
   "name": "python",
   "nbconvert_exporter": "python",
   "pygments_lexer": "ipython3",
   "version": "3.8.5"
  }
 },
 "nbformat": 4,
 "nbformat_minor": 4
}
